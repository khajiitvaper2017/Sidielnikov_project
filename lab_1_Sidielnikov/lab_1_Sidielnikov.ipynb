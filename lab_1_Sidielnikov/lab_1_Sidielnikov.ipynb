{
 "cells": [
  {
   "cell_type": "markdown",
   "metadata": {},
   "source": [
    "---\n",
    "title: \"Лабораторна робота №1. Інсталяція та налаштування Python-середовища\"\n",
    "description:\n",
    "  Документ зроблено за допомогою [Quarto](https://quarto.org/)\n",
    "author: \"&copy; Даніїл Сідєльніков, 2023\"\n",
    "date: \"15.05.2023\"\n",
    "lang: ukr\n",
    "format:\n",
    "  html:\n",
    "    code-fold: true\n",
    "    toc: true # меню\n",
    "    toc_float: # спливаюче меню  \n",
    "      collapsed: true # авто\n",
    "      number_sections: true\n",
    "jupyter: python3\n",
    "---"
   ]
  },
  {
   "cell_type": "markdown",
   "metadata": {},
   "source": [
    "__Мета:__ _quick start для роботи з python3 у середовищі IDE PyCharm системою контроля версій git._"
   ]
  },
  {
   "cell_type": "markdown",
   "metadata": {},
   "source": [
    "## Інсталяція Python"
   ]
  },
  {
   "cell_type": "markdown",
   "metadata": {},
   "source": [
    "1. Ідемо на [офіційний сайт Python](https://www.python.org/downloads/).\n",
    "\n",
    "1. Завантажуємо та встановлюємо актуальну версію дистрибутиву Python3. \n",
    "\n",
    "1. Встановлюємо python, (бажано прийняти праметри інсталяції за замовчанням).\n",
    "\n",
    "1. Запускаємо консоль `cmd` і запускаємо python командою `python`:"
   ]
  },
  {
   "cell_type": "markdown",
   "metadata": {},
   "source": [
    "![](lab_1_Sidielnikov_files/python.png)"
   ]
  },
  {
   "cell_type": "markdown",
   "metadata": {},
   "source": [
    "## Написання та запуск коду. Налаштування PyCharm-Git-GitHub середовища "
   ]
  },
  {
   "cell_type": "markdown",
   "metadata": {},
   "source": [
    "Для ефективної, зокрема командної, роботи потрібно створений проект зв'язати з системою контроля версій (СКВ).  \n",
    "Існують різні СКВ, найбільш популярною з яких наразі є [Git](https://git-scm.com/).  \n",
    "Для того, щоби налаштувати середовище PyCharm-Git-GitHub необхідно:\n",
    "\n",
    "1. Завантажити і налаштувати СКВ Git на своєму локальному комп'ютері.\n",
    "1. Створити акаунт на ресурсі [GitHub](https://github.com/).\n",
    "1. Створити репозиторій на GitHub у своєму акаунті.\n",
    "1. Зв'язати його із створеним у PyCharm проєктом на python.  \n",
    "\n",
    "[https://github.com/khajiitvaper2017/Sidielnikov_project](https://github.com/khajiitvaper2017/Sidielnikov_project)\n",
    "\n",
    "![](lab_1_Sidielnikov_files/github.png)"
   ]
  },
  {
   "cell_type": "markdown",
   "metadata": {},
   "source": [
    "У файлі Lab_1_Sidielnikov.py пишумо такий код:"
   ]
  },
  {
   "cell_type": "code",
   "execution_count": 2,
   "metadata": {},
   "outputs": [
    {
     "name": "stdout",
     "output_type": "stream",
     "text": [
      "Привіт, Сідєльніков.\n"
     ]
    }
   ],
   "source": [
    "print(\"Привіт, Сідєльніков.\")"
   ]
  },
  {
   "cell_type": "markdown",
   "metadata": {},
   "source": [
    "Створюємо commit та пушимо його у гітхаб\n",
    "\n",
    "![](lab_1_Sidielnikov_files/commit.png)"
   ]
  },
  {
   "cell_type": "markdown",
   "metadata": {},
   "source": [
    "## Контрольні запитання\n",
    "\n",
    "1. У чому відмінність інтерпретатора від компілятора? Python -- компілятор чи інтерпретатор?\n",
    "\n",
    "Компілятор: перетворює вихідний код програми (написаний у високорівневій мові) у машинний код або у код асемблера. Це відбувається перед виконанням програми. Компільовані програми можуть бути виконані без наявності вихідного коду.\n",
    "Інтерпретатор: читає вихідний код програми та виконує його без попередньої компіляції. Інтерпретатор виконує код по одній команді або рядку за раз, перетворюючи його в машинні інструкції під час виконання.\n",
    "Python є мовою програмування, яка використовує інтерпретатор.\n",
    "\n",
    "2. Що таке IDE PyCharm?\n",
    "\n",
    "PyCharm — це інтегроване середовище розробки (IDE) для мови програмування Python. Воно надає розширені можливості для написання, редагування, тестування та налагодження програм на Python. PyCharm включає в себе віджети, що полегшують роботу з Python, автоматичну перевірку синтаксису, відлагоджування коду, роботу з системами контролю версій та інші корисні функції.\n",
    "\n",
    "3. Що таке система контроля версій (СКВ) і для чого вона призначена? У чому принципова відмінність СКВ SVN та GIT?\n",
    "\n",
    "Система контролю версій (СКВ) використовується для збереження та відстеження змін у вихідному коді та інших файлів проєкту. Вона дозволяє ефективно спільно працювати над проєктом, відновлювати попередні версії файлів та об'єднувати різні гілки розробки.\n",
    "\n",
    "Відмінність між SVN та Git:\n",
    "\n",
    "SVN (Subversion): централізована СКВ, де вся інформація зберігається на сервері. При роботі з SVN потрібне постійне з'єднання з сервером для багаторазового отримання оновлень та збереження змін.\n",
    "Git: розподілена СКВ, кожен клон (копія) репозиторію має повний набір історії та може працювати незалежно від інших клонів. Git дозволяє працювати офлайн та швидше операції з гілками та злиттями.\n",
    "\n",
    "4. Що відбувається при виконанні команди `git add .`?\n",
    "\n",
    "При виконанні команди git add . файли та зміни у робочій директорії додаються до \"індексу\" (staging area) для подальшого коміту. Індекс — це проміжний етап, де обираються файли, які включатимуться до наступного коміту.\n",
    "\n",
    "5. Що відбувається при виконанні команди `git commit`?\n",
    "\n",
    "\n",
    "При виконанні команди 'git commit' дані, які знаходяться в \"індексі\" (staging area), фіксуються у локальному репозиторії як новий коміт з унікальним ідентифікатором. Коміт включає в себе зміни, які були додані до стейджу за допомогою 'git add .'\n",
    "\n",
    "6. Якою Git-командою виконується розміщення локальної копії Git-репозиторію проєкта на віддаленому, що знаходиться на GitHub?\n",
    "\n",
    "Для розміщення локальної копії Git-репозиторію проєкта на віддаленому репозиторії, що знаходиться на GitHub, використовується команда 'git push'. Ця команда завантажує зміни з локального репозиторію на віддалений, синхронізуючи їх."
   ]
  },
  {
   "cell_type": "markdown",
   "metadata": {},
   "source": [
    "## References"
   ]
  },
  {
   "cell_type": "markdown",
   "metadata": {},
   "source": [
    "1. [Anaconda (Python distribution)](https://uk.wikipedia.org/wiki/Anaconda_(Python_distribution))\n",
    "2. [Conda](https://conda.io/en/latest/)\n",
    "3. [Pro Git Book](https://git-scm.com/book/en/v2)\n",
    "4. [OpenEDG Python Institute](https://pythoninstitute.org/)\n",
    "5. [Cisco. Networking Academy](https://www.netacad.com/) \n",
    "6. [ЧТО ТАКОЕ ЯП PYTHON? УСТАНОВКА ПАЙТОНА НА WINDOWS 11 !](https://www.youtube.com/watch?v=nQMddf_6KoM&list=PLV0FNhq3XMOKljD7POtuWVAZn8wXcn4-L)\n",
    "1. [Научно-издательская система Quarto](https://data-visualization-blog.netlify.app/posts/quarto/)\n",
    "1. [The Python Standard Library](https://docs.python.org/3/library/index.html)\n",
    "1. [Callout Blocks. Markdown Syntax](https://quarto.org/docs/authoring/callouts.html)  "
   ]
  }
 ],
 "metadata": {
  "kernelspec": {
   "display_name": "Python 3.11.5 64-bit",
   "language": "python",
   "name": "python3"
  },
  "language_info": {
   "codemirror_mode": {
    "name": "ipython",
    "version": 3
   },
   "file_extension": ".py",
   "mimetype": "text/x-python",
   "name": "python",
   "nbconvert_exporter": "python",
   "pygments_lexer": "ipython3",
   "version": "3.11.5"
  },
  "vscode": {
   "interpreter": {
    "hash": "fc9cd8b6e83749306f5db8a71d80819f5b8e783d9fde65fce98424a719304dfa"
   }
  }
 },
 "nbformat": 4,
 "nbformat_minor": 4
}
