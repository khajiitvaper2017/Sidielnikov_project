{
 "cells": [
  {
   "cell_type": "markdown",
   "metadata": {},
   "source": [
    "---\n",
    "title: 'Лабораторна робота №7. Словники, кортежі. Обробка винятків (empty)'\n",
    "description:\n",
    "   Документ зроблено за допомогою [Quarto](https://quarto.org/)\n",
    "author: \"Сідєльніков Даніїл, 2023\"\n",
    "date: \"10.05.2023\"\n",
    "lang: ukr\n",
    "format:\n",
    "  html:\n",
    "    code-fold: true\n",
    "    toc: true # меню\n",
    "    toc_float: # спливаюче меню  \n",
    "      collapsed: true # авто\n",
    "      number_sections: true\n",
    "jupyter: python3\n",
    "---"
   ]
  },
  {
   "cell_type": "markdown",
   "metadata": {},
   "source": [
    "__Мета:__ _навчитися працювати зі структурами даних Кортеж та Словник. Навчитись обробляти основні типи винятків_"
   ]
  },
  {
   "cell_type": "markdown",
   "metadata": {
    "tags": []
   },
   "source": [
    "## Що ви будете вміти?\n",
    "* створювати та обробляти кортежі (`tuple`).\n",
    "* створювати і обробляти словники (`dict`).\n",
    "* сумісно викростовувати словники і кортежі\n",
    "* обробляти основні типи винятків."
   ]
  },
  {
   "cell_type": "markdown",
   "metadata": {},
   "source": [
    "## Робота зі словниками"
   ]
  },
  {
   "cell_type": "markdown",
   "metadata": {},
   "source": [
    "### Приклад 1\n",
    "\n",
    "Створіть кортеж, який містить інформацію про результати іспитів з трьох предметів для студента (наприклад, математика, фізика та хімія). Виведіть на екран середній бал та максимальний бал."
   ]
  },
  {
   "cell_type": "code",
   "execution_count": 1,
   "metadata": {},
   "outputs": [
    {
     "name": "stdout",
     "output_type": "stream",
     "text": [
      "Середній бал: 81.66666666666667\n",
      "Максимальний бал: 90\n"
     ]
    }
   ],
   "source": [
    "results = (80, 75, 90)\n",
    "\n",
    "average_score = sum(results) / len(results)\n",
    "max_score = max(results)\n",
    "\n",
    "print(f\"Середній бал: {average_score}\")\n",
    "print(f\"Максимальний бал: {max_score}\")"
   ]
  },
  {
   "cell_type": "markdown",
   "metadata": {},
   "source": [
    "У цьому коді ми створюємо кортеж `results`, який містить оцінки студента з трьох предметів. Потім ми обчислюємо середній бал, використовуючи вбудовані функції `sum` та `len`, та максимальний бал, використовуючи вбудовану функцію `max`. Нарешті, ми виводимо ці значення на екран за допомогою функції `print`. Водночас ми продемонстрували один з варіантів форматованого виводу."
   ]
  },
  {
   "cell_type": "markdown",
   "metadata": {},
   "source": [
    "### Приклад 2 "
   ]
  },
  {
   "cell_type": "markdown",
   "metadata": {},
   "source": [
    "Створіть програму, яка буде обчислювати площу трикутника за трьома сторонами, які користувач введе з клавіатури. Збережіть введені користувачем значення за допомогою кортежів та виведіть їх на екран."
   ]
  },
  {
   "cell_type": "code",
   "execution_count": 2,
   "metadata": {},
   "outputs": [
    {
     "name": "stdout",
     "output_type": "stream",
     "text": [
      "Довжина сторін трикутника: (13.0, 5.0, 12.0)\n",
      "Площа трикутника: 30.0\n"
     ]
    }
   ],
   "source": [
    "a = float(input(\"Введіть довжину першої сторони трикутника: \"))\n",
    "b = float(input(\"Введіть довжину другої сторони трикутника: \"))\n",
    "c = float(input(\"Введіть довжину третьої сторони трикутника: \"))\n",
    "\n",
    "# обчислюємо півпериметр\n",
    "p = (a + b + c) / 2\n",
    "\n",
    "# обчислюємо площу трикутника за формулою Герона\n",
    "area = (p * (p - a) * (p - b) * (p - c)) ** 0.5\n",
    "\n",
    "# зберігаємо введені користувачем значення у кортеж\n",
    "triangle_sides = (a, b, c)\n",
    "\n",
    "# виводимо на екран введені користувачем значення та площу трикутника\n",
    "print(f\"Довжина сторін трикутника: {triangle_sides}\")\n",
    "print(f\"Площа трикутника: {area}\")\n"
   ]
  },
  {
   "cell_type": "markdown",
   "metadata": {},
   "source": [
    "У цьому прикладі ми використовуємо кортеж `triangle_sides`, щоб зберегти довжини трьох сторін трикутника, які введені користувачем з клавіатури. "
   ]
  },
  {
   "cell_type": "markdown",
   "metadata": {},
   "source": [
    "### Приклад 3 "
   ]
  },
  {
   "cell_type": "markdown",
   "metadata": {},
   "source": [
    "Напишіть програму, яка змінює порядок елементів у кортежі. Користувач повинен ввести кортеж, а програма повинна вивести його елементи у зворотному порядку."
   ]
  },
  {
   "cell_type": "code",
   "execution_count": 38,
   "metadata": {},
   "outputs": [
    {
     "name": "stdout",
     "output_type": "stream",
     "text": [
      "Введіть елементи кортежу, розділені комою:  1, 2, 3, 4, 5\n"
     ]
    },
    {
     "name": "stdout",
     "output_type": "stream",
     "text": [
      "Зворотний порядок елементів кортежу: (' 5', ' 4', ' 3', ' 2', '1')\n"
     ]
    }
   ],
   "source": [
    "t = tuple(input(\"Введіть елементи кортежу, розділені комою: \").split(','))\n",
    "\n",
    "# змінюємо порядок елементів у кортежі\n",
    "reversed_t = t[::-1]\n",
    "\n",
    "# виводимо зворотний порядок елементів на екран\n",
    "print(f\"Зворотний порядок елементів кортежу: {reversed_t}\")"
   ]
  },
  {
   "cell_type": "markdown",
   "metadata": {},
   "source": [
    "У цьому прикладі ми використовуємо оператор зрізу `[::]`, щоб змінити порядок елементів у кортежі `t` на зворотний порядок. Потім ми виводимо на екран зворотний порядок елементів у новому кортежі `reversed_t`.\n",
    "\n",
    "Наприклад, якщо користувач введе `\"1,2,3,4,5\"`, програма виведе на екран: \"Зворотний порядок елементів кортежу: `('5', '4', '3', '2', '1')`."
   ]
  },
  {
   "cell_type": "markdown",
   "metadata": {},
   "source": [
    "### Завдання 1"
   ]
  },
  {
   "cell_type": "markdown",
   "metadata": {},
   "source": [
    "Напишіть програму, яка створює кортеж зі списку чисел, а потім виводить на екран всі числа, які менші за задане число `n`. Умова: користувач вводить число `n`, і   щоб створити новий список `result`, який містить всі числа з кортежу, які менші за `n`, реалізувати за допомогою генератора списків."
   ]
  },
  {
   "cell_type": "code",
   "execution_count": 5,
   "metadata": {},
   "outputs": [
    {
     "name": "stdout",
     "output_type": "stream",
     "text": [
      "[10, 20, 30, 40, 50, 60]\n"
     ]
    }
   ],
   "source": [
    "n = int(input(\"Введіть число: \"))\n",
    "t = (10, 20, 30, 40, 50, 60, 70, 80, 90, 100)\n",
    "\n",
    "# створюємо новий список, який містить всі числа з кортежу, які менші за n\n",
    "result = [i for i in t if i < n]\n",
    "\n",
    "print(result)"
   ]
  },
  {
   "cell_type": "markdown",
   "metadata": {},
   "source": [
    "### Завдання 2\n",
    "Напишіть програму, яка створює кортеж з трьох елементів, які є рядками, та з'єднує їх в один рядок з комою як роздільником. Примітка: з'єднати рядки також можна за допомогою методу `.joint()`"
   ]
  },
  {
   "cell_type": "code",
   "execution_count": 7,
   "metadata": {},
   "outputs": [
    {
     "name": "stdout",
     "output_type": "stream",
     "text": [
      "fhfghf, r5745, hfhgfh\n"
     ]
    }
   ],
   "source": [
    "t = (input(\"Введіть перший рядок: \"), input(\"Введіть другий рядок: \"), input(\"Введіть третій рядок: \"))\n",
    "\n",
    "result = ', '.join(t)\n",
    "\n",
    "print(result)"
   ]
  },
  {
   "cell_type": "markdown",
   "metadata": {},
   "source": [
    "### Завдання 3 "
   ]
  },
  {
   "cell_type": "markdown",
   "metadata": {},
   "source": [
    "Створіть словник, який містить інформацію про книги в бібліотеці. Ключами будуть назви книг, а значеннями - автори, рік видання та кількість сторінок. Виведіть на екран інформацію про книгу, введену користувачем."
   ]
  },
  {
   "cell_type": "code",
   "execution_count": 13,
   "metadata": {},
   "outputs": [
    {
     "name": "stdout",
     "output_type": "stream",
     "text": [
      "Author:  Antoine de Saint-Exupéry\n"
     ]
    }
   ],
   "source": [
    "books = dict()\n",
    "books[\"The Hobbit\"] = \"J. R. R. Tolkien\"\n",
    "books[\"The Lord of the Rings\"] = \"J. R. R. Tolkien\"\n",
    "books[\"The Little Prince\"] = \"Antoine de Saint-Exupéry\"\n",
    "books[\"Harry Potter\"] = \"J. K. Rowling\"\n",
    "\n",
    "try:\n",
    "    print(\"Author: \", books[input(\"Введіть назву книги: \")])\n",
    "except KeyError:\n",
    "    print(\"Такої книги немає у словнику\")"
   ]
  },
  {
   "cell_type": "markdown",
   "metadata": {},
   "source": [
    "## Сумісна робота зі словниками і кортежами"
   ]
  },
  {
   "cell_type": "markdown",
   "metadata": {},
   "source": [
    "### Приклад 1"
   ]
  },
  {
   "cell_type": "markdown",
   "metadata": {},
   "source": [
    "Написати програму, яка веде облік студентів групи, забезпечуючи можливість зберігати ім'я і прізвище студента та його оцінки, і виводить середній бал по предметах."
   ]
  },
  {
   "cell_type": "code",
   "execution_count": 14,
   "metadata": {},
   "outputs": [
    {
     "name": "stdout",
     "output_type": "stream",
     "text": [
      "aab : 1.0\n",
      "gdg : 7.0\n",
      "hgdf : 5.0\n"
     ]
    }
   ],
   "source": [
    "school_class = {}\n",
    "\n",
    "while True:\n",
    "    name = input(\"Enter the student's name: \")\n",
    "    if name == '':\n",
    "        break\n",
    "    \n",
    "    score = int(input(\"Enter the student's score (0-10): \"))\n",
    "    if score not in range(0, 11):\n",
    "\t    break\n",
    "    \n",
    "    if name in school_class:\n",
    "        school_class[name] += (score,)\n",
    "    else:\n",
    "        school_class[name] = (score,)\n",
    "        \n",
    "for name in sorted(school_class.keys()):\n",
    "    adding = 0\n",
    "    counter = 0\n",
    "    for score in school_class[name]:\n",
    "        adding += score\n",
    "        counter += 1\n",
    "    print(name, \":\", adding / counter)"
   ]
  },
  {
   "cell_type": "markdown",
   "metadata": {},
   "source": [
    "### Завдання 4"
   ]
  },
  {
   "cell_type": "markdown",
   "metadata": {},
   "source": [
    "Напишіть програму, яка створює словник, що містить інформацію про студентів, використовуючи вказані кортежі в якості значень. Кожен ключ -- це прізвище студента. Виведіть на екран інформацію про студента, введеного користувачем."
   ]
  },
  {
   "cell_type": "code",
   "execution_count": 15,
   "metadata": {},
   "outputs": [
    {
     "name": "stdout",
     "output_type": "stream",
     "text": [
      "Info about the student: ('ddfgdfghdfh',)\n"
     ]
    }
   ],
   "source": [
    "school_class = {}\n",
    "\n",
    "while True:\n",
    "    name = input(\"Enter the student's last name: \")\n",
    "    if name == '':\n",
    "        break\n",
    "\n",
    "    info = tuple(input(\"Enter information about the student: \").split(','))\n",
    "\n",
    "    school_class[name] = info\n",
    "\n",
    "print(\"Info about the student:\", school_class[input(\"Enter the student's last name: \")])\n"
   ]
  },
  {
   "cell_type": "markdown",
   "metadata": {},
   "source": [
    "### Завдання 5"
   ]
  },
  {
   "cell_type": "markdown",
   "metadata": {},
   "source": [
    "Створіть словник, який містить інформацію про більше, ніж один номер телефону для кожного з контактів в телефонній книзі. Ключами будуть імена контактів, а значеннями - список їхніх номерів телефонів. Напишіть функцію, яка дозволяє додати новий номер телефону до списку номерів телефону певного контакту. Потім виведіть на екран список номерів телефонів для всіх контактів."
   ]
  },
  {
   "cell_type": "code",
   "execution_count": 17,
   "metadata": {},
   "outputs": [
    {
     "name": "stdout",
     "output_type": "stream",
     "text": [
      "1. Add contact\n",
      "2. Show all contacts\n",
      "3. Exit\n",
      "1. Add contact\n",
      "2. Show all contacts\n",
      "3. Exit\n",
      "1. Add contact\n",
      "2. Show all contacts\n",
      "3. Exit\n",
      "aboba : ('1124124124', '4267457457475')\n",
      "1. Add contact\n",
      "2. Show all contacts\n",
      "3. Exit\n",
      "1. Add contact\n",
      "2. Show all contacts\n",
      "3. Exit\n",
      "aboba : ('1124124124', '4267457457475')\n",
      "bbbbb : ('421414',)\n",
      "1. Add contact\n",
      "2. Show all contacts\n",
      "3. Exit\n"
     ]
    }
   ],
   "source": [
    "phonebook = {}\n",
    "\n",
    "def add_contact():\n",
    "    name = input(\"Enter the contact's name: \")\n",
    "    phone_number = input(\"Enter the contact's phone number: \")\n",
    "\n",
    "    if name not in phonebook:\n",
    "        phonebook[name] = (phone_number,)\n",
    "    else:\n",
    "        phonebook[name] += (phone_number,)\n",
    "\n",
    "def show_all_contacts():\n",
    "    for name in phonebook:\n",
    "        print(name, \":\", phonebook[name])\n",
    "\n",
    "while True:\n",
    "    print(\"1. Add contact\")\n",
    "    print(\"2. Show all contacts\")\n",
    "    print(\"3. Exit\")\n",
    "\n",
    "    choice = int(input(\"Enter your choice: \"))\n",
    "\n",
    "    if choice == 1:\n",
    "        add_contact()\n",
    "    elif choice == 2:\n",
    "        show_all_contacts()\n",
    "    elif choice == 3:\n",
    "        break\n",
    "    else:\n",
    "        print(\"Incorrect input\")"
   ]
  },
  {
   "cell_type": "markdown",
   "metadata": {},
   "source": [
    "## Завдання для самостіної роботи\n",
    "\n",
    "1. Виконати завдання 1-5 наведені вище у цьому зошиті.\n",
    "\n",
    "1. Створити файл __lab_7_StudentLastName.py__ з написаним кодом. \n",
    "\n",
    "1. Закомітити файл у локальний репозиторій.\n",
    "\n",
    "1. Відправити (\"запушити\") поточну версію Git-проєкта у віддалений репозиторій на GitHub.\n",
    "\n",
    "1. Звіт має складатися з файлу (за основу взяти __цей Python-зошит__)  `lab_7_StudentLastName.ipynb`. (Можливі якісь додакові файли)"
   ]
  },
  {
   "cell_type": "markdown",
   "metadata": {},
   "source": [
    "## Контрольні запитання\n",
    "\n",
    "1. Що виведе наступний код?\n",
    "\n",
    "```\n",
    "my_tuple = (1, 2, 3)\n",
    "print(my_tuple[1:])\n",
    "```\n",
    "\n",
    "Код виведе `(2, 3)`\n",
    "\n",
    "2. Що виведе наступний код?\n",
    "```\n",
    "my_dict = {'a': 1, 'b': 2, 'c': 3}\n",
    "print(my_dict.get('d', 4))\n",
    "```\n",
    "\n",
    "Код виведе `4`\n",
    "\n",
    "3. Що виведе наступний код?\n",
    "```\n",
    "my_tuple = (1, 2, 3)\n",
    "my_tuple[0] = 4\n",
    "print(my_tuple)\n",
    "```\n",
    "\n",
    "Цей код виведе помилку, оскільки кортежі не можна змінювати.\n",
    "\n",
    "4. Що виведе наступний код?\n",
    "```\n",
    "my_dict = {'a': 1, 'b': 2, 'c': 3}\n",
    "my_dict.update({'d': 4})\n",
    "print(my_dict)\n",
    "```\n",
    "\n",
    "Код виведе `{'a': 1, 'b': 2, 'c': 3, 'd': 4}`\n"
   ]
  },
  {
   "cell_type": "markdown",
   "metadata": {},
   "source": [
    "## References"
   ]
  },
  {
   "cell_type": "markdown",
   "metadata": {},
   "source": [
    "1. [Anaconda (Python distribution)](https://uk.wikipedia.org/wiki/Anaconda_(Python_distribution))\n",
    "2. [Conda](https://conda.io/en/latest/)\n",
    "3. [Pro Git Book](https://git-scm.com/book/en/v2)\n",
    "4. [OpenEDG Python Institute](https://pythoninstitute.org/)\n",
    "5. [Cisco. Networking Academy](https://www.netacad.com/)\n",
    "6. [Научно-издательская система Quarto](https://data-visualization-blog.netlify.app/posts/quarto/)"
   ]
  }
 ],
 "metadata": {
  "kernelspec": {
   "display_name": "Python 3 (ipykernel)",
   "language": "python",
   "name": "python3"
  },
  "language_info": {
   "codemirror_mode": {
    "name": "ipython",
    "version": 3
   },
   "file_extension": ".py",
   "mimetype": "text/x-python",
   "name": "python",
   "nbconvert_exporter": "python",
   "pygments_lexer": "ipython3",
   "version": "3.10.11"
  }
 },
 "nbformat": 4,
 "nbformat_minor": 4
}
